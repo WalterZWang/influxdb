{
 "cells": [
  {
   "cell_type": "code",
   "execution_count": 1,
   "metadata": {},
   "outputs": [],
   "source": [
    "import pandas as pd\n",
    "\n",
    "from interfacedb import setup_lbnl"
   ]
  },
  {
   "cell_type": "markdown",
   "metadata": {},
   "source": [
    "## Initiate a database object"
   ]
  },
  {
   "cell_type": "code",
   "execution_count": 2,
   "metadata": {},
   "outputs": [],
   "source": [
    "db, dbname = setup_lbnl()\n",
    "# db is an instance of the database object\n",
    "# dbname is a database (like a table), a server can host multiple databases "
   ]
  },
  {
   "cell_type": "code",
   "execution_count": 3,
   "metadata": {},
   "outputs": [
    {
     "data": {
      "text/plain": [
       "'ucmerced'"
      ]
     },
     "execution_count": 3,
     "metadata": {},
     "output_type": "execute_result"
    }
   ],
   "source": [
    "dbname"
   ]
  },
  {
   "cell_type": "code",
   "execution_count": 4,
   "metadata": {},
   "outputs": [
    {
     "data": {
      "text/plain": [
       "['MOER', 'MOER_for']"
      ]
     },
     "execution_count": 4,
     "metadata": {},
     "output_type": "execute_result"
    }
   ],
   "source": [
    "# get the measurement lists in this database\n",
    "db.get_measurements_list(dbname)"
   ]
  },
  {
   "cell_type": "markdown",
   "metadata": {},
   "source": [
    "## Demonstration: historical data"
   ]
  },
  {
   "cell_type": "code",
   "execution_count": 5,
   "metadata": {},
   "outputs": [],
   "source": [
    "from gridCarbon import WattTime\n",
    "\n",
    "## Initiate an object for the downloader\n",
    "LOC = [37.87, -122.27]  # Berkeley, CA\n",
    "wattTime = WattTime(LOC)\n",
    "\n",
    "## Download the historical MOER\n",
    "# This function needs Analyst account\n",
    "# Return dataframe\n",
    "START_UTC = '2021-2-01 00:00:00' \n",
    "FINAL_UTC = '2021-2-05 12:00:00'\n",
    "moer_historical = wattTime.MOER_historical(START_UTC, FINAL_UTC, mode='Test')"
   ]
  },
  {
   "cell_type": "code",
   "execution_count": 15,
   "metadata": {},
   "outputs": [],
   "source": [
    "moer_historical.rename(columns={'MOER':'MOER_test'}, inplace=True)\n",
    "moer_historical  # the data to be written to the database"
   ]
  },
  {
   "cell_type": "code",
   "execution_count": 17,
   "metadata": {},
   "outputs": [
    {
     "data": {
      "text/plain": [
       "1"
      ]
     },
     "execution_count": 17,
     "metadata": {},
     "output_type": "execute_result"
    }
   ],
   "source": [
    "db.write_data(moer_historical, dbname)  # moer_historical needs to be pd dataframe"
   ]
  },
  {
   "cell_type": "code",
   "execution_count": 18,
   "metadata": {},
   "outputs": [
    {
     "data": {
      "text/plain": [
       "['MOER', 'MOER_for', 'MOER_test']"
      ]
     },
     "execution_count": 18,
     "metadata": {},
     "output_type": "execute_result"
    }
   ],
   "source": [
    "## print the existing data point in the database\n",
    "db.get_measurements_list(dbname)"
   ]
  },
  {
   "cell_type": "code",
   "execution_count": 21,
   "metadata": {},
   "outputs": [],
   "source": [
    "## read the data\n",
    "field = 'MOER_test'\n",
    "start_time_str = '2020-1-1 00:00:00'\n",
    "final_time = pd.Timestamp.now(tz='UTC')\n",
    "final_time_str = pd.to_datetime(final_time.strftime('%Y-%m-%d %H:%M:00'))\n",
    "\n",
    "# the start and final time must be string and suggested to be UTC to avoid mistakes\n",
    "moer_data = db.get_data(field, dbname, start_time_str, final_time_str)"
   ]
  },
  {
   "cell_type": "code",
   "execution_count": 22,
   "metadata": {},
   "outputs": [
    {
     "data": {
      "text/html": [
       "<div>\n",
       "<style scoped>\n",
       "    .dataframe tbody tr th:only-of-type {\n",
       "        vertical-align: middle;\n",
       "    }\n",
       "\n",
       "    .dataframe tbody tr th {\n",
       "        vertical-align: top;\n",
       "    }\n",
       "\n",
       "    .dataframe thead th {\n",
       "        text-align: right;\n",
       "    }\n",
       "</style>\n",
       "<table border=\"1\" class=\"dataframe\">\n",
       "  <thead>\n",
       "    <tr style=\"text-align: right;\">\n",
       "      <th></th>\n",
       "      <th>MOER_test</th>\n",
       "    </tr>\n",
       "  </thead>\n",
       "  <tbody>\n",
       "    <tr>\n",
       "      <th>2021-02-01 00:00:00+00:00</th>\n",
       "      <td>983.0</td>\n",
       "    </tr>\n",
       "    <tr>\n",
       "      <th>2021-02-01 00:05:00+00:00</th>\n",
       "      <td>984.0</td>\n",
       "    </tr>\n",
       "    <tr>\n",
       "      <th>2021-02-01 00:10:00+00:00</th>\n",
       "      <td>949.0</td>\n",
       "    </tr>\n",
       "    <tr>\n",
       "      <th>2021-02-01 00:15:00+00:00</th>\n",
       "      <td>940.0</td>\n",
       "    </tr>\n",
       "    <tr>\n",
       "      <th>2021-02-01 00:20:00+00:00</th>\n",
       "      <td>953.0</td>\n",
       "    </tr>\n",
       "    <tr>\n",
       "      <th>...</th>\n",
       "      <td>...</td>\n",
       "    </tr>\n",
       "    <tr>\n",
       "      <th>2021-02-05 11:40:00+00:00</th>\n",
       "      <td>977.0</td>\n",
       "    </tr>\n",
       "    <tr>\n",
       "      <th>2021-02-05 11:45:00+00:00</th>\n",
       "      <td>976.0</td>\n",
       "    </tr>\n",
       "    <tr>\n",
       "      <th>2021-02-05 11:50:00+00:00</th>\n",
       "      <td>975.0</td>\n",
       "    </tr>\n",
       "    <tr>\n",
       "      <th>2021-02-05 11:55:00+00:00</th>\n",
       "      <td>969.0</td>\n",
       "    </tr>\n",
       "    <tr>\n",
       "      <th>2021-02-05 12:00:00+00:00</th>\n",
       "      <td>977.0</td>\n",
       "    </tr>\n",
       "  </tbody>\n",
       "</table>\n",
       "<p>1297 rows × 1 columns</p>\n",
       "</div>"
      ],
      "text/plain": [
       "                           MOER_test\n",
       "2021-02-01 00:00:00+00:00      983.0\n",
       "2021-02-01 00:05:00+00:00      984.0\n",
       "2021-02-01 00:10:00+00:00      949.0\n",
       "2021-02-01 00:15:00+00:00      940.0\n",
       "2021-02-01 00:20:00+00:00      953.0\n",
       "...                              ...\n",
       "2021-02-05 11:40:00+00:00      977.0\n",
       "2021-02-05 11:45:00+00:00      976.0\n",
       "2021-02-05 11:50:00+00:00      975.0\n",
       "2021-02-05 11:55:00+00:00      969.0\n",
       "2021-02-05 12:00:00+00:00      977.0\n",
       "\n",
       "[1297 rows x 1 columns]"
      ]
     },
     "execution_count": 22,
     "metadata": {},
     "output_type": "execute_result"
    }
   ],
   "source": [
    "moer_data"
   ]
  },
  {
   "cell_type": "markdown",
   "metadata": {},
   "source": [
    "## Demonstration: prediction data"
   ]
  },
  {
   "cell_type": "code",
   "execution_count": 23,
   "metadata": {},
   "outputs": [],
   "source": [
    "# As forecast is updated at every time step, however we do not want the forecast to be over-written\n",
    "# Therefore, we propose a seperate database API to write and save forecasts data\n",
    "# You may not necessary have to use it\n",
    "db_for, dbname = setup_lbnl(style='forecasts')"
   ]
  },
  {
   "cell_type": "code",
   "execution_count": 24,
   "metadata": {},
   "outputs": [
    {
     "name": "stdout",
     "output_type": "stream",
     "text": [
      "Using the Test mode, the location you indicate is not available, only CAISO_NORTH is available\n",
      "Downloading forecast data for BA CAISO_NORTH since 2021-02-26T21:48:11+00:00 for 24 hours\n"
     ]
    }
   ],
   "source": [
    "# collect the forecast data\n",
    "moer_forecast = wattTime.MOER_forecast(mode='Test')\n",
    "moer_forecast.rename(columns={field: field+\"_for\" for field in moer_forecast.columns}, inplace=True)"
   ]
  },
  {
   "cell_type": "code",
   "execution_count": 25,
   "metadata": {},
   "outputs": [
    {
     "data": {
      "text/html": [
       "<div>\n",
       "<style scoped>\n",
       "    .dataframe tbody tr th:only-of-type {\n",
       "        vertical-align: middle;\n",
       "    }\n",
       "\n",
       "    .dataframe tbody tr th {\n",
       "        vertical-align: top;\n",
       "    }\n",
       "\n",
       "    .dataframe thead th {\n",
       "        text-align: right;\n",
       "    }\n",
       "</style>\n",
       "<table border=\"1\" class=\"dataframe\">\n",
       "  <thead>\n",
       "    <tr style=\"text-align: right;\">\n",
       "      <th></th>\n",
       "      <th>MOER_for</th>\n",
       "    </tr>\n",
       "  </thead>\n",
       "  <tbody>\n",
       "    <tr>\n",
       "      <th>2021-02-26 21:50:00+00:00</th>\n",
       "      <td>49.117397</td>\n",
       "    </tr>\n",
       "    <tr>\n",
       "      <th>2021-02-26 21:55:00+00:00</th>\n",
       "      <td>50.325799</td>\n",
       "    </tr>\n",
       "    <tr>\n",
       "      <th>2021-02-26 22:00:00+00:00</th>\n",
       "      <td>50.745274</td>\n",
       "    </tr>\n",
       "    <tr>\n",
       "      <th>2021-02-26 22:05:00+00:00</th>\n",
       "      <td>53.476336</td>\n",
       "    </tr>\n",
       "    <tr>\n",
       "      <th>2021-02-26 22:10:00+00:00</th>\n",
       "      <td>50.617549</td>\n",
       "    </tr>\n",
       "    <tr>\n",
       "      <th>...</th>\n",
       "      <td>...</td>\n",
       "    </tr>\n",
       "    <tr>\n",
       "      <th>2021-02-27 21:25:00+00:00</th>\n",
       "      <td>74.133299</td>\n",
       "    </tr>\n",
       "    <tr>\n",
       "      <th>2021-02-27 21:30:00+00:00</th>\n",
       "      <td>74.113806</td>\n",
       "    </tr>\n",
       "    <tr>\n",
       "      <th>2021-02-27 21:35:00+00:00</th>\n",
       "      <td>71.796273</td>\n",
       "    </tr>\n",
       "    <tr>\n",
       "      <th>2021-02-27 21:40:00+00:00</th>\n",
       "      <td>72.708373</td>\n",
       "    </tr>\n",
       "    <tr>\n",
       "      <th>2021-02-27 21:45:00+00:00</th>\n",
       "      <td>70.593017</td>\n",
       "    </tr>\n",
       "  </tbody>\n",
       "</table>\n",
       "<p>288 rows × 1 columns</p>\n",
       "</div>"
      ],
      "text/plain": [
       "                            MOER_for\n",
       "2021-02-26 21:50:00+00:00  49.117397\n",
       "2021-02-26 21:55:00+00:00  50.325799\n",
       "2021-02-26 22:00:00+00:00  50.745274\n",
       "2021-02-26 22:05:00+00:00  53.476336\n",
       "2021-02-26 22:10:00+00:00  50.617549\n",
       "...                              ...\n",
       "2021-02-27 21:25:00+00:00  74.133299\n",
       "2021-02-27 21:30:00+00:00  74.113806\n",
       "2021-02-27 21:35:00+00:00  71.796273\n",
       "2021-02-27 21:40:00+00:00  72.708373\n",
       "2021-02-27 21:45:00+00:00  70.593017\n",
       "\n",
       "[288 rows x 1 columns]"
      ]
     },
     "execution_count": 25,
     "metadata": {},
     "output_type": "execute_result"
    }
   ],
   "source": [
    "moer_forecast"
   ]
  },
  {
   "cell_type": "code",
   "execution_count": 26,
   "metadata": {},
   "outputs": [],
   "source": [
    "db_for.write_data(moer_forecast, dbname, time = now_str)"
   ]
  },
  {
   "cell_type": "code",
   "execution_count": null,
   "metadata": {},
   "outputs": [],
   "source": [
    "# You only need one timestamp (the time step you saved the forecast) to retrieve the forecast\n",
    "# Remember for historical data, you need two timestamps (start time and final time)\n",
    "db_for.get_data('MOER_for', dbname, now_str)"
   ]
  },
  {
   "cell_type": "code",
   "execution_count": 14,
   "metadata": {},
   "outputs": [
    {
     "ename": "InfluxDBClientError",
     "evalue": "403: {\"error\":\"error authorizing query: cerc_user not authorized to execute statement 'DROP MEASUREMENT MOER', requires admin privilege\"}",
     "output_type": "error",
     "traceback": [
      "\u001b[1;31m---------------------------------------------------------------------------\u001b[0m",
      "\u001b[1;31mInfluxDBClientError\u001b[0m                       Traceback (most recent call last)",
      "\u001b[1;32m<ipython-input-14-1bc4be6fd554>\u001b[0m in \u001b[0;36m<module>\u001b[1;34m\u001b[0m\n\u001b[0;32m      1\u001b[0m \u001b[1;31m## We cannot delete data which requires admin\u001b[0m\u001b[1;33m\u001b[0m\u001b[1;33m\u001b[0m\u001b[0m\n\u001b[1;32m----> 2\u001b[1;33m \u001b[0mdb\u001b[0m\u001b[1;33m.\u001b[0m\u001b[0mdrop_measurement\u001b[0m\u001b[1;33m(\u001b[0m\u001b[1;34m'MOER'\u001b[0m\u001b[1;33m,\u001b[0m \u001b[0mdbname\u001b[0m\u001b[1;33m)\u001b[0m\u001b[1;33m\u001b[0m\u001b[0m\n\u001b[0m",
      "\u001b[1;32m~\\Desktop\\CERC\\ucm\\influxdb\\interfacedb.py\u001b[0m in \u001b[0;36mdrop_measurement\u001b[1;34m(self, key, dbname, compatible_names)\u001b[0m\n\u001b[0;32m    228\u001b[0m         \u001b[1;31m# Drop measurement\u001b[0m\u001b[1;33m\u001b[0m\u001b[1;33m\u001b[0m\u001b[0m\n\u001b[0;32m    229\u001b[0m         \u001b[0mquery\u001b[0m \u001b[1;33m=\u001b[0m \u001b[1;34m\"DROP MEASUREMENT {0}\"\u001b[0m\u001b[1;33m.\u001b[0m\u001b[0mformat\u001b[0m\u001b[1;33m(\u001b[0m\u001b[0mkey\u001b[0m\u001b[1;33m)\u001b[0m\u001b[1;33m\u001b[0m\u001b[0m\n\u001b[1;32m--> 230\u001b[1;33m         \u001b[0mres\u001b[0m \u001b[1;33m=\u001b[0m \u001b[0mself\u001b[0m\u001b[1;33m.\u001b[0m\u001b[0mclient\u001b[0m\u001b[1;33m.\u001b[0m\u001b[0mquery\u001b[0m\u001b[1;33m(\u001b[0m\u001b[0mquery\u001b[0m\u001b[1;33m,\u001b[0m \u001b[0mdatabase\u001b[0m\u001b[1;33m=\u001b[0m\u001b[0mdbname\u001b[0m\u001b[1;33m)\u001b[0m\u001b[1;33m\u001b[0m\u001b[0m\n\u001b[0m\u001b[0;32m    231\u001b[0m \u001b[1;33m\u001b[0m\u001b[0m\n\u001b[0;32m    232\u001b[0m     \u001b[1;32mdef\u001b[0m \u001b[0mget_measurements_list\u001b[0m\u001b[1;33m(\u001b[0m\u001b[0mself\u001b[0m\u001b[1;33m,\u001b[0m \u001b[0mdbname\u001b[0m\u001b[1;33m)\u001b[0m\u001b[1;33m:\u001b[0m\u001b[1;33m\u001b[0m\u001b[0m\n",
      "\u001b[1;32m~\\Anaconda3\\envs\\influxdb_python3\\lib\\site-packages\\influxdb\\_dataframe_client.py\u001b[0m in \u001b[0;36mquery\u001b[1;34m(self, query, params, bind_params, epoch, expected_response_code, database, raise_errors, chunked, chunk_size, method, dropna, data_frame_index)\u001b[0m\n\u001b[0;32m    197\u001b[0m                           \u001b[0mmethod\u001b[0m\u001b[1;33m=\u001b[0m\u001b[0mmethod\u001b[0m\u001b[1;33m,\u001b[0m\u001b[1;33m\u001b[0m\u001b[0m\n\u001b[0;32m    198\u001b[0m                           chunk_size=chunk_size)\n\u001b[1;32m--> 199\u001b[1;33m         \u001b[0mresults\u001b[0m \u001b[1;33m=\u001b[0m \u001b[0msuper\u001b[0m\u001b[1;33m(\u001b[0m\u001b[0mDataFrameClient\u001b[0m\u001b[1;33m,\u001b[0m \u001b[0mself\u001b[0m\u001b[1;33m)\u001b[0m\u001b[1;33m.\u001b[0m\u001b[0mquery\u001b[0m\u001b[1;33m(\u001b[0m\u001b[0mquery\u001b[0m\u001b[1;33m,\u001b[0m \u001b[1;33m**\u001b[0m\u001b[0mquery_args\u001b[0m\u001b[1;33m)\u001b[0m\u001b[1;33m\u001b[0m\u001b[0m\n\u001b[0m\u001b[0;32m    200\u001b[0m         \u001b[1;32mif\u001b[0m \u001b[0mquery\u001b[0m\u001b[1;33m.\u001b[0m\u001b[0mstrip\u001b[0m\u001b[1;33m(\u001b[0m\u001b[1;33m)\u001b[0m\u001b[1;33m.\u001b[0m\u001b[0mupper\u001b[0m\u001b[1;33m(\u001b[0m\u001b[1;33m)\u001b[0m\u001b[1;33m.\u001b[0m\u001b[0mstartswith\u001b[0m\u001b[1;33m(\u001b[0m\u001b[1;34m\"SELECT\"\u001b[0m\u001b[1;33m)\u001b[0m\u001b[1;33m:\u001b[0m\u001b[1;33m\u001b[0m\u001b[0m\n\u001b[0;32m    201\u001b[0m             \u001b[1;32mif\u001b[0m \u001b[0mlen\u001b[0m\u001b[1;33m(\u001b[0m\u001b[0mresults\u001b[0m\u001b[1;33m)\u001b[0m \u001b[1;33m>\u001b[0m \u001b[1;36m0\u001b[0m\u001b[1;33m:\u001b[0m\u001b[1;33m\u001b[0m\u001b[0m\n",
      "\u001b[1;32m~\\Anaconda3\\envs\\influxdb_python3\\lib\\site-packages\\influxdb\\client.py\u001b[0m in \u001b[0;36mquery\u001b[1;34m(self, query, params, bind_params, epoch, expected_response_code, database, raise_errors, chunked, chunk_size, method)\u001b[0m\n\u001b[0;32m    525\u001b[0m             \u001b[0mdata\u001b[0m\u001b[1;33m=\u001b[0m\u001b[1;32mNone\u001b[0m\u001b[1;33m,\u001b[0m\u001b[1;33m\u001b[0m\u001b[0m\n\u001b[0;32m    526\u001b[0m             \u001b[0mstream\u001b[0m\u001b[1;33m=\u001b[0m\u001b[0mchunked\u001b[0m\u001b[1;33m,\u001b[0m\u001b[1;33m\u001b[0m\u001b[0m\n\u001b[1;32m--> 527\u001b[1;33m             \u001b[0mexpected_response_code\u001b[0m\u001b[1;33m=\u001b[0m\u001b[0mexpected_response_code\u001b[0m\u001b[1;33m\u001b[0m\u001b[0m\n\u001b[0m\u001b[0;32m    528\u001b[0m         )\n\u001b[0;32m    529\u001b[0m \u001b[1;33m\u001b[0m\u001b[0m\n",
      "\u001b[1;32m~\\Anaconda3\\envs\\influxdb_python3\\lib\\site-packages\\influxdb\\client.py\u001b[0m in \u001b[0;36mrequest\u001b[1;34m(self, url, method, params, data, stream, expected_response_code, headers)\u001b[0m\n\u001b[0;32m    376\u001b[0m         \u001b[1;32melse\u001b[0m\u001b[1;33m:\u001b[0m\u001b[1;33m\u001b[0m\u001b[0m\n\u001b[0;32m    377\u001b[0m             \u001b[0merr_msg\u001b[0m \u001b[1;33m=\u001b[0m \u001b[0mreformat_error\u001b[0m\u001b[1;33m(\u001b[0m\u001b[0mresponse\u001b[0m\u001b[1;33m)\u001b[0m\u001b[1;33m\u001b[0m\u001b[0m\n\u001b[1;32m--> 378\u001b[1;33m             \u001b[1;32mraise\u001b[0m \u001b[0mInfluxDBClientError\u001b[0m\u001b[1;33m(\u001b[0m\u001b[0merr_msg\u001b[0m\u001b[1;33m,\u001b[0m \u001b[0mresponse\u001b[0m\u001b[1;33m.\u001b[0m\u001b[0mstatus_code\u001b[0m\u001b[1;33m)\u001b[0m\u001b[1;33m\u001b[0m\u001b[0m\n\u001b[0m\u001b[0;32m    379\u001b[0m \u001b[1;33m\u001b[0m\u001b[0m\n\u001b[0;32m    380\u001b[0m     def write(self, data, params=None, expected_response_code=204,\n",
      "\u001b[1;31mInfluxDBClientError\u001b[0m: 403: {\"error\":\"error authorizing query: cerc_user not authorized to execute statement 'DROP MEASUREMENT MOER', requires admin privilege\"}"
     ]
    }
   ],
   "source": [
    "## We can also delete a point, but requires an admin privilege to delete data\n",
    "db.drop_measurement('MOER', dbname)"
   ]
  },
  {
   "cell_type": "code",
   "execution_count": null,
   "metadata": {},
   "outputs": [],
   "source": []
  },
  {
   "cell_type": "code",
   "execution_count": null,
   "metadata": {},
   "outputs": [],
   "source": []
  }
 ],
 "metadata": {
  "hide_input": false,
  "kernelspec": {
   "display_name": "influxdb_python3",
   "language": "python",
   "name": "influxdb_python3"
  },
  "language_info": {
   "codemirror_mode": {
    "name": "ipython",
    "version": 3
   },
   "file_extension": ".py",
   "mimetype": "text/x-python",
   "name": "python",
   "nbconvert_exporter": "python",
   "pygments_lexer": "ipython3",
   "version": "3.7.0"
  },
  "toc": {
   "base_numbering": 1,
   "nav_menu": {},
   "number_sections": true,
   "sideBar": true,
   "skip_h1_title": false,
   "title_cell": "Table of Contents",
   "title_sidebar": "Contents",
   "toc_cell": false,
   "toc_position": {},
   "toc_section_display": true,
   "toc_window_display": false
  },
  "varInspector": {
   "cols": {
    "lenName": 16,
    "lenType": 16,
    "lenVar": 40
   },
   "kernels_config": {
    "python": {
     "delete_cmd_postfix": "",
     "delete_cmd_prefix": "del ",
     "library": "var_list.py",
     "varRefreshCmd": "print(var_dic_list())"
    },
    "r": {
     "delete_cmd_postfix": ") ",
     "delete_cmd_prefix": "rm(",
     "library": "var_list.r",
     "varRefreshCmd": "cat(var_dic_list()) "
    }
   },
   "types_to_exclude": [
    "module",
    "function",
    "builtin_function_or_method",
    "instance",
    "_Feature"
   ],
   "window_display": false
  }
 },
 "nbformat": 4,
 "nbformat_minor": 4
}
